{
  "nbformat": 4,
  "nbformat_minor": 0,
  "metadata": {
    "colab": {
      "provenance": [],
      "toc_visible": true
    },
    "kernelspec": {
      "name": "python3",
      "display_name": "Python 3"
    },
    "language_info": {
      "name": "python"
    }
  },
  "cells": [
    {
      "cell_type": "markdown",
      "source": [
        "**Python Basic Assigment**"
      ],
      "metadata": {
        "id": "3flGcVA6OKri"
      }
    },
    {
      "cell_type": "markdown",
      "source": [
        "1. Explain the key features of Python that make it a popular choice for programming.\n",
        "\n",
        "-> Below are mentioned some of the most key features of Python:\n",
        "\n",
        ". Easy to use and learn.\n",
        ". Python has a simple syntax that is easy to learn.\n",
        ". Open Source. Python is an open-source language.\n",
        ". Large Standard Library.\n",
        ". Dynamically Typed.\n",
        ". Large Community Support.\n",
        ". Portable."
      ],
      "metadata": {
        "id": "2hdn8g_QOviU"
      }
    },
    {
      "cell_type": "markdown",
      "source": [
        "2. Describe the role of predefined keywords in Python and provide examples of how they are used in a\n",
        "program.\n",
        "\n",
        "-> Keywords in Python are predefined words with special meanings to the interpreter. Each of them is meant to perform a specific task. On the other hand, identifiers are user-defined words given to different parts of Python programming. We can assign identifier names to a variable, function, or class."
      ],
      "metadata": {
        "id": "2VgBRCv7QTP7"
      }
    },
    {
      "cell_type": "markdown",
      "source": [
        " 3. Compare and contrast mutable and immutable objects in Python with examples\n",
        "> In Python, mutable objects can be modified after creation (example-Lists, dictionaries, sets), while immutable objects cannot (example- Integers, floats, strings, tuples, frozensets). Immutable objects create new objects when modified, whereas mutable objects modify in place."
      ],
      "metadata": {
        "id": "4iGXIAOVReUF"
      }
    },
    {
      "cell_type": "markdown",
      "source": [
        "4. Discuss the different types of operators in Python and provide examples of how they are used.\n",
        "\n",
        "\n",
        "-> In Python, operators are special symbols or keywords used to perform operations on variables and values. They are broadly categorized into several types:\n",
        "\n",
        "A. Arithmetic Operators-> Used to perform mathematical operations.\n",
        "   example-\n",
        "\n",
        "   x = 10\n",
        "\n",
        "   y = 3\n",
        "\n",
        "print(x + y)  # Output: 13\n",
        "\n",
        "print(x - y)  # Output: 7\n",
        "\n",
        "print(x * y)  # Output: 30\n",
        "\n",
        "\n",
        "B. Comparison (Relational) Operators-> Used to compare two values.\n",
        "   example-\n",
        "\n",
        "   x = 5\n",
        "\n",
        "   y = 10\n",
        "\n",
        "print(x == y)  # Output: False\n",
        "\n",
        "print(x != y)  # Output: True\n",
        "\n",
        "print(x > y)  # Output: False\n",
        "\n",
        "\n",
        "C.Assignment Operators-> Used to assign values to variables.\n",
        "\n",
        "example-\n",
        "\n",
        "x = 4\n",
        "\n",
        "x += 3\n",
        "\n",
        "print(x)  # x = 7\n",
        "\n",
        "D. Logical Operators-> Used to combine conditional statements.\n",
        "\n",
        "example-  \n",
        "\n",
        "a = True\n",
        "\n",
        "b = False\n",
        "\n",
        "print(a and b)  # False\n",
        "\n",
        "print(a or b)   # True\n",
        "\n",
        "\n",
        "E. Bitwise Operators-> Operate on binary numbers.\n",
        "\n",
        "example-\n",
        "\n",
        "print(5 & 3)   # 1\n",
        "\n",
        "print(5 << 1)  # 10\n",
        "\n",
        "F. Membership Operators-> Check membership in a sequence (like lists, strings, etc.).\n",
        "\n",
        "example-\n",
        "\n",
        "print('a' in 'apple')     # True\n",
        "\n",
        "print(3 not in [1, 2, 4]) # True\n",
        "\n",
        "\n",
        "G. Identity Operators-> Check if two variables refer to the same object.\n",
        "\n",
        "example-\n",
        "\n",
        "x = [1, 2]\n",
        "\n",
        "y = x\n",
        "\n",
        "z = [1, 2]\n",
        "\n",
        "print(x is y)    # True\n",
        "\n",
        "print(x is z)    # False\n",
        "\n",
        "\n",
        "\n",
        "   "
      ],
      "metadata": {
        "id": "A424XmDbStqd"
      }
    },
    {
      "cell_type": "markdown",
      "source": [
        "5. Explain the concept of type casting in Python with examples.\n",
        "\n",
        "-> In Python, type casting, or type conversion, is the process of converting a variable from one data type to another, either implicitly (automatically) or explicitly (manually using functions like int(), float(), str()).\n",
        "\n",
        "Implicit Type Conversion:\n",
        "\n",
        "Python automatically handles type conversions in certain situations, especially when dealing with different data types in operations.\n",
        "For example, when you add an integer and a float, Python automatically converts the integer to a float to avoid data loss.\n",
        "\n",
        "Example-\n",
        "\n",
        "        x = 5\n",
        "        y = 2.5\n",
        "        z = x + y  # x (int) becomes a float for the addition\n",
        "        print(z)  # Output: 7.5\n",
        "        print(type(z)) # Output: <class 'float'>\n",
        "\n",
        "Explicit Type Conversion (Casting):\n",
        "\n",
        "You can manually convert a variable's data type using Python's built-in functions.\n",
        "int(): Converts a value to an integer.\n",
        "\n",
        "\n",
        "Example-\n",
        "\n",
        "        x = 3.14\n",
        "        y = int(x)  # Converts 3.14 to 3 (truncates the decimal part)\n",
        "        print(y)  # Output: 3"
      ],
      "metadata": {
        "id": "Fgy934LaXW11"
      }
    },
    {
      "cell_type": "markdown",
      "source": [
        "6. How do conditional statements work in Python? Illustrate with examples.\n",
        "\n",
        "-> In Python, conditional statements (using if, elif, and else) control code execution based on conditions. They allow you to execute different blocks of code depending on whether a condition is true or false.\n",
        "\n",
        "Basic if Statement:\n",
        "\n",
        "age = 18\n",
        "\n",
        "if age >= 18:\n",
        "\n",
        "   print(\"You are eligible to vote.\")\n",
        "\n",
        "if-else Statement:\n",
        "\n",
        "age = 16\n",
        "\n",
        "if age >= 18:\n",
        "\n",
        "    print(\"You are eligible to vote.\")\n",
        "else:\n",
        "\n",
        "    print(\"You are not yet eligible to vote.\")"
      ],
      "metadata": {
        "id": "jrx9eEC6ZNg8"
      }
    },
    {
      "cell_type": "markdown",
      "source": [
        "7. Describe the different types of loops in Python and their use cases with examples.\n",
        "\n",
        "-> Python offers two primary loop types: for and while, each suited for different scenarios. for loops iterate over a sequence (like lists or strings), while while loops execute as long as a condition remains true.\n",
        "\n",
        "for Loop:\n",
        "\n",
        "example-\n",
        "\n",
        "    fruits = [\"apple\", \"banana\", \"cherry\"]\n",
        "    for fruit in fruits:\n",
        "        print(fruit)\n",
        "\n",
        "while Loop:\n",
        "\n",
        "example-\n",
        "\n",
        "    count = 0\n",
        "    while count < 5:\n",
        "        print(count)\n",
        "        count += 1"
      ],
      "metadata": {
        "id": "-ZdqFjxPZ_VW"
      }
    }
  ]
}